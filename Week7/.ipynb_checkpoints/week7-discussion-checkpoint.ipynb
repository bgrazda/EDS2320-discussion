{
 "cells": [
  {
   "cell_type": "code",
   "execution_count": 1,
   "id": "73891015-6020-434a-8621-c9df7dcaffc7",
   "metadata": {
    "tags": []
   },
   "outputs": [],
   "source": [
    "import pandas as pd\n",
    "import numpy as np\n",
    "from sklearn.model_selection import train_test_split\n",
    "from sklearn.feature_extraction.text import TfidfVectorizer, CountVectorizer\n",
    "from sklearn.linear_model import LogisticRegression\n",
    "from sklearn.metrics import classification_report, f1_score, accuracy_score, confusion_matrix\n",
    "from sklearn.metrics import roc_curve, auc, roc_auc_score\n",
    "import re\n",
    "import string\n",
    "import matplotlib.pyplot as plt\n",
    "import seaborn as sns"
   ]
  },
  {
   "cell_type": "code",
   "execution_count": 5,
   "id": "fbc85ad6-20f0-4230-8ec4-f3cddb9b1e91",
   "metadata": {
    "tags": []
   },
   "outputs": [],
   "source": [
    "# Read in the data\n",
    "disaster = pd.read_csv('data/disaster.csv')"
   ]
  },
  {
   "cell_type": "code",
   "execution_count": 4,
   "id": "fba34675-0c3b-462e-a52f-4bc84597b972",
   "metadata": {
    "tags": []
   },
   "outputs": [],
   "source": [
    "# Cleaning text data\n",
    "def preprocess(text):\n",
    "    text = text.lower() \n",
    "    text=  text.strip()  \n",
    "    text=  re.sub(r'<.*?>','', text) \n",
    "    text = re.sub(r'[^\\w\\s]','',text)  \n",
    "    text = re.sub(r'\\[[0-9]*\\]',' ',text) \n",
    "    text = re.sub(r'\\d',' ',text)  \n",
    "    text = re.sub(r'\\s+', ' ', text) \n",
    "    return text"
   ]
  }
 ],
 "metadata": {
  "kernelspec": {
   "display_name": "Anaconda 3 (EDS232)",
   "language": "python",
   "name": "ml-env"
  },
  "language_info": {
   "codemirror_mode": {
    "name": "ipython",
    "version": 3
   },
   "file_extension": ".py",
   "mimetype": "text/x-python",
   "name": "python",
   "nbconvert_exporter": "python",
   "pygments_lexer": "ipython3",
   "version": "3.10.16"
  }
 },
 "nbformat": 4,
 "nbformat_minor": 5
}
